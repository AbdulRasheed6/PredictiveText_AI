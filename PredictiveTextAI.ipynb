{
 "cells": [
  {
   "cell_type": "markdown",
   "metadata": {
    "id": "bFWbEb6uGbN-"
   },
   "source": [
    "# Predicting the next word\n",
    "\n",
    "We  will implement a model that predict the next word in  a text sequence and train it using a corpus of Shakespeare's sonnets, while also creating some helper functions to pre-process the data.\n",
    "\n",
    "\n",
    "Let's get started!"
   ]
  },
  {
   "cell_type": "code",
   "execution_count": 1,
   "metadata": {
    "id": "BOwsuGQQY9OL",
    "tags": [
     "graded"
    ]
   },
   "outputs": [],
   "source": [
    "import numpy as np \n",
    "import matplotlib.pyplot as plt\n",
    "from tensorflow.keras.models import Sequential\n",
    "from tensorflow.keras.utils import to_categorical \n",
    "from tensorflow.keras.preprocessing.text import Tokenizer\n",
    "from tensorflow.keras.preprocessing.sequence import pad_sequences\n",
    "from tensorflow.keras.layers import Embedding, LSTM, Dense, Bidirectional\n",
    "from tensorflow.keras.optimizers import Adam"
   ]
  },
  {
   "cell_type": "markdown",
   "metadata": {
    "id": "BTxqlHqKHzhr"
   },
   "source": [
    "We will be using the [Shakespeare Sonnets Dataset](https://www.opensourceshakespeare.org/views/sonnets/sonnet_view.php?range=viewrange&sonnetrange1=1&sonnetrange2=154), which contains more than 2000 lines of text extracted from Shakespeare's sonnets."
   ]
  },
  {
   "cell_type": "code",
   "execution_count": 2,
   "metadata": {
    "colab": {
     "base_uri": "https://localhost:8080/"
    },
    "id": "WZ4qOUzujMP6",
    "outputId": "dd094707-7976-4e20-8d50-9d9421262f5f",
    "tags": [
     "graded"
    ]
   },
   "outputs": [
    {
     "name": "stdout",
     "output_type": "stream",
     "text": [
      "/usr/local/lib/python3.8/dist-packages/gdown/cli.py:127: FutureWarning: Option `--id` was deprecated in version 4.3.1 and will be removed in 5.0. You don't need to pass it anymore to use a file ID.\n",
      "  warnings.warn(\n",
      "Downloading...\n",
      "From: https://drive.google.com/uc?id=108jAePKK4R3BVYBbYJZ32JWUwxeMg20K\n",
      "To: /content/sonnets.txt\n",
      "100% 93.6k/93.6k [00:00<00:00, 89.9MB/s]\n"
     ]
    }
   ],
   "source": [
    "# sonnets.txt\n",
    "!gdown --id 108jAePKK4R3BVYBbYJZ32JWUwxeMg20K"
   ]
  },
  {
   "cell_type": "code",
   "execution_count": 3,
   "metadata": {
    "colab": {
     "base_uri": "https://localhost:8080/"
    },
    "id": "Pfd-nYKij5yY",
    "outputId": "c2cd84ab-e1cf-4320-c2f0-a6aaa7eb9a56",
    "tags": [
     "graded"
    ]
   },
   "outputs": [
    {
     "name": "stdout",
     "output_type": "stream",
     "text": [
      "There are 2159 lines of sonnets\n",
      "\n",
      "The first 5 lines look like this:\n",
      "\n",
      "from fairest creatures we desire increase,\n",
      "that thereby beauty's rose might never die,\n",
      "but as the riper should by time decease,\n",
      "his tender heir might bear his memory:\n",
      "but thou, contracted to thine own bright eyes,\n"
     ]
    }
   ],
   "source": [
    "# Define path for file with sonnets\n",
    "SONNETS_FILE = './sonnets.txt'\n",
    "\n",
    "# Read the data\n",
    "with open('./sonnets.txt') as f:\n",
    "    data = f.read()\n",
    "\n",
    "# Convert to lower case and save as a list\n",
    "corpus = data.lower().split(\"\\n\")\n",
    "\n",
    "print(f\"There are {len(corpus)} lines of sonnets\\n\")\n",
    "print(f\"The first 5 lines look like this:\\n\")\n",
    "for i in range(5):\n",
    "  print(corpus[i])"
   ]
  },
  {
   "cell_type": "markdown",
   "metadata": {
    "id": "imB15zrSNhA1"
   },
   "source": [
    "## Tokenizing the text\n",
    "\n",
    "Now fit the Tokenizer to the corpus and save the total number of words."
   ]
  },
  {
   "cell_type": "code",
   "execution_count": 4,
   "metadata": {
    "id": "AAhM_qAZk0o5",
    "tags": [
     "graded"
    ]
   },
   "outputs": [],
   "source": [
    "tokenizer = Tokenizer()\n",
    "tokenizer.fit_on_texts(corpus)\n",
    "total_words = len(tokenizer.word_index) + 1"
   ]
  },
  {
   "cell_type": "markdown",
   "metadata": {
    "id": "77-0sA46OETa"
   },
   "source": [
    "When converting the text into sequences you can use the `texts_to_sequences` method as you have done throughout this course.\n",
    "\n",
    "In the next graded function you will need to process this corpus one line at a time. Given this, it is important to keep in mind that the way you are feeding the data unto this method affects the result. Check the following example to make this clearer.\n",
    "\n",
    "The first example of the corpus is a string and looks like this:"
   ]
  },
  {
   "cell_type": "code",
   "execution_count": 5,
   "metadata": {
    "colab": {
     "base_uri": "https://localhost:8080/",
     "height": 35
    },
    "id": "tqhPxdeXlfjh",
    "outputId": "9e6b51b4-e370-4c57-c5ee-0d84b8174116",
    "tags": [
     "graded"
    ]
   },
   "outputs": [
    {
     "data": {
      "application/vnd.google.colaboratory.intrinsic+json": {
       "type": "string"
      },
      "text/plain": [
       "'from fairest creatures we desire increase,'"
      ]
     },
     "execution_count": 5,
     "metadata": {},
     "output_type": "execute_result"
    }
   ],
   "source": [
    "corpus[0]"
   ]
  },
  {
   "cell_type": "markdown",
   "metadata": {
    "id": "XFMP4z11O3os"
   },
   "source": [
    "If you pass this text directly into the `texts_to_sequences` method you will get an unexpected result:"
   ]
  },
  {
   "cell_type": "code",
   "execution_count": 7,
   "metadata": {
    "colab": {
     "base_uri": "https://localhost:8080/"
    },
    "id": "EMSEhmbzNZCE",
    "outputId": "5a357352-1ee8-4383-89b0-01d67333c34a",
    "tags": [
     "graded"
    ]
   },
   "outputs": [
    {
     "data": {
      "text/plain": [
       "[[],\n",
       " [],\n",
       " [58],\n",
       " [],\n",
       " [],\n",
       " [],\n",
       " [17],\n",
       " [6],\n",
       " [],\n",
       " [],\n",
       " [],\n",
       " [],\n",
       " [],\n",
       " [],\n",
       " [],\n",
       " [],\n",
       " [17],\n",
       " [],\n",
       " [],\n",
       " [],\n",
       " [],\n",
       " [],\n",
       " [],\n",
       " [],\n",
       " [],\n",
       " [],\n",
       " [],\n",
       " [],\n",
       " [],\n",
       " [6],\n",
       " [],\n",
       " [],\n",
       " [],\n",
       " [6],\n",
       " [],\n",
       " [],\n",
       " [],\n",
       " [],\n",
       " [17],\n",
       " [],\n",
       " [],\n",
       " []]"
      ]
     },
     "execution_count": 7,
     "metadata": {},
     "output_type": "execute_result"
    }
   ],
   "source": [
    "tokenizer.texts_to_sequences(corpus[0])"
   ]
  },
  {
   "cell_type": "markdown",
   "metadata": {
    "id": "pPZmZtpEPEeI"
   },
   "source": [
    "This happened because `texts_to_sequences` expects a list and you are providing a string. However a string is still and `iterable` in Python so you will get the word index of every character in the string.\n",
    "\n",
    "Instead you need to place the example whithin a list before passing it to the method:"
   ]
  },
  {
   "cell_type": "code",
   "execution_count": 6,
   "metadata": {
    "colab": {
     "base_uri": "https://localhost:8080/"
    },
    "id": "Qmgo-vXhk4nd",
    "outputId": "982c3bb8-1d13-4a6a-e06d-6232e503b81c",
    "tags": [
     "graded"
    ]
   },
   "outputs": [
    {
     "data": {
      "text/plain": [
       "[[34, 417, 877, 166, 213, 517]]"
      ]
     },
     "execution_count": 6,
     "metadata": {},
     "output_type": "execute_result"
    }
   ],
   "source": [
    "tokenizer.texts_to_sequences([corpus[0]])"
   ]
  },
  {
   "cell_type": "markdown",
   "metadata": {
    "id": "0DU7wK-eQ5dc"
   },
   "source": [
    "Notice that you received the sequence wrapped inside a list so in order to get only the desired sequence you need to explicitly get the first item in the list like this:"
   ]
  },
  {
   "cell_type": "code",
   "execution_count": 7,
   "metadata": {
    "colab": {
     "base_uri": "https://localhost:8080/"
    },
    "id": "kpTy8WmIQ57P",
    "outputId": "f790fc5c-435c-41b3-8ed8-a01088311691",
    "tags": [
     "graded"
    ]
   },
   "outputs": [
    {
     "data": {
      "text/plain": [
       "[34, 417, 877, 166, 213, 517]"
      ]
     },
     "execution_count": 7,
     "metadata": {},
     "output_type": "execute_result"
    }
   ],
   "source": [
    "tokenizer.texts_to_sequences([corpus[0]])[0]"
   ]
  },
  {
   "cell_type": "markdown",
   "metadata": {
    "id": "-oqy9KjXRJ9A"
   },
   "source": [
    "## Generating n_grams\n",
    "\n",
    "Now complete the `n_gram_seqs` function below. This function receives the fitted tokenizer and the corpus (which is a list of strings) and should return a list containing the `n_gram` sequences for each line in the corpus:"
   ]
  },
  {
   "cell_type": "code",
   "execution_count": 8,
   "metadata": {
    "id": "iy4baJMDl6kj",
    "tags": [
     "graded"
    ]
   },
   "outputs": [],
   "source": [
    "# GRADED FUNCTION: n_gram_seqs\n",
    "def n_gram_seqs(corpus, tokenizer):\n",
    "    \"\"\"\n",
    "    Generates a list of n-gram sequences\n",
    "    \n",
    "    Args:\n",
    "        corpus (list of string): lines of texts to generate n-grams for\n",
    "        tokenizer (object): an instance of the Tokenizer class containing the word-index dictionary\n",
    "    \n",
    "    Returns:\n",
    "        input_sequences (list of int): the n-gram sequences for each line in the corpus\n",
    "    \"\"\"\n",
    "    input_sequences = []\n",
    "\n",
    "    ## loop over the corpus\n",
    "    for line in corpus:\n",
    "\n",
    "      ## tokenize the current line\n",
    "      token_list=tokenizer.texts_to_sequences([line])[0]\n",
    "\n",
    "      ## loop over the line several times to generate the subphrases\n",
    "      for i in range(1, len(token_list)):\n",
    "\n",
    "        ## Generate the subphrase\n",
    "        n_gram_sequence= token_list[:i+1]\n",
    "\n",
    "        input_sequences.append(n_gram_sequence)\n",
    "    \n",
    "    ### START CODE HERE\n",
    "    \n",
    "    ### END CODE HERE\n",
    "    \n",
    "    return input_sequences"
   ]
  },
  {
   "cell_type": "code",
   "execution_count": 9,
   "metadata": {
    "colab": {
     "base_uri": "https://localhost:8080/"
    },
    "id": "DlKqW2pfM7G3",
    "outputId": "83d9c425-c1a6-4e31-b435-e786958bc5ca",
    "tags": [
     "graded"
    ]
   },
   "outputs": [
    {
     "name": "stdout",
     "output_type": "stream",
     "text": [
      "n_gram sequences for first example look like this:\n",
      "\n"
     ]
    },
    {
     "data": {
      "text/plain": [
       "[[34, 417],\n",
       " [34, 417, 877],\n",
       " [34, 417, 877, 166],\n",
       " [34, 417, 877, 166, 213],\n",
       " [34, 417, 877, 166, 213, 517]]"
      ]
     },
     "execution_count": 9,
     "metadata": {},
     "output_type": "execute_result"
    }
   ],
   "source": [
    "# Test your function with one example\n",
    "first_example_sequence = n_gram_seqs([corpus[0]], tokenizer)\n",
    "\n",
    "print(\"n_gram sequences for first example look like this:\\n\")\n",
    "first_example_sequence"
   ]
  },
  {
   "cell_type": "markdown",
   "metadata": {
    "id": "0HL8Ug6UU0Jt"
   },
   "source": [
    "**Expected Output:**\n",
    "\n",
    "```\n",
    "n_gram sequences for first example look like this:\n",
    "\n",
    "[[34, 417],\n",
    " [34, 417, 877],\n",
    " [34, 417, 877, 166],\n",
    " [34, 417, 877, 166, 213],\n",
    " [34, 417, 877, 166, 213, 517]]\n",
    "```"
   ]
  },
  {
   "cell_type": "code",
   "execution_count": 11,
   "metadata": {
    "colab": {
     "base_uri": "https://localhost:8080/"
    },
    "id": "wtPpCcBjNc4c",
    "outputId": "dc957993-aa23-4f2c-aada-ea028a82cd59",
    "tags": [
     "graded"
    ]
   },
   "outputs": [
    {
     "name": "stdout",
     "output_type": "stream",
     "text": [
      "n_gram sequences for next 3 examples look like this:\n",
      "\n"
     ]
    },
    {
     "data": {
      "text/plain": [
       "[[8, 878],\n",
       " [8, 878, 134],\n",
       " [8, 878, 134, 351],\n",
       " [8, 878, 134, 351, 102],\n",
       " [8, 878, 134, 351, 102, 156],\n",
       " [8, 878, 134, 351, 102, 156, 199],\n",
       " [16, 22],\n",
       " [16, 22, 2],\n",
       " [16, 22, 2, 879],\n",
       " [16, 22, 2, 879, 61],\n",
       " [16, 22, 2, 879, 61, 30],\n",
       " [16, 22, 2, 879, 61, 30, 48],\n",
       " [16, 22, 2, 879, 61, 30, 48, 634],\n",
       " [25, 311],\n",
       " [25, 311, 635],\n",
       " [25, 311, 635, 102],\n",
       " [25, 311, 635, 102, 200],\n",
       " [25, 311, 635, 102, 200, 25],\n",
       " [25, 311, 635, 102, 200, 25, 278]]"
      ]
     },
     "execution_count": 11,
     "metadata": {},
     "output_type": "execute_result"
    }
   ],
   "source": [
    "# Test your function with a bigger corpus\n",
    "next_3_examples_sequence = n_gram_seqs(corpus[1:4], tokenizer)\n",
    "\n",
    "print(\"n_gram sequences for next 3 examples look like this:\\n\")\n",
    "next_3_examples_sequence"
   ]
  },
  {
   "cell_type": "markdown",
   "metadata": {
    "id": "EIzecMczU9UB"
   },
   "source": [
    "**Expected Output:**\n",
    "\n",
    "```\n",
    "n_gram sequences for next 3 examples look like this:\n",
    "\n",
    "[[8, 878],\n",
    " [8, 878, 134],\n",
    " [8, 878, 134, 351],\n",
    " [8, 878, 134, 351, 102],\n",
    " [8, 878, 134, 351, 102, 156],\n",
    " [8, 878, 134, 351, 102, 156, 199],\n",
    " [16, 22],\n",
    " [16, 22, 2],\n",
    " [16, 22, 2, 879],\n",
    " [16, 22, 2, 879, 61],\n",
    " [16, 22, 2, 879, 61, 30],\n",
    " [16, 22, 2, 879, 61, 30, 48],\n",
    " [16, 22, 2, 879, 61, 30, 48, 634],\n",
    " [25, 311],\n",
    " [25, 311, 635],\n",
    " [25, 311, 635, 102],\n",
    " [25, 311, 635, 102, 200],\n",
    " [25, 311, 635, 102, 200, 25],\n",
    " [25, 311, 635, 102, 200, 25, 278]]\n",
    "```"
   ]
  },
  {
   "cell_type": "markdown",
   "metadata": {
    "id": "dx3V_RjFWQSu"
   },
   "source": [
    "Apply the `n_gram_seqs` transformation to the whole corpus and save the maximum sequence length to use it later:"
   ]
  },
  {
   "cell_type": "code",
   "execution_count": 12,
   "metadata": {
    "colab": {
     "base_uri": "https://localhost:8080/"
    },
    "id": "laMwiRUpmuSd",
    "outputId": "4d7c5f3b-aa9c-4e41-ad27-150fcf854c50",
    "tags": [
     "graded"
    ]
   },
   "outputs": [
    {
     "name": "stdout",
     "output_type": "stream",
     "text": [
      "n_grams of input_sequences have length: 15462\n",
      "maximum length of sequences is: 11\n"
     ]
    }
   ],
   "source": [
    "# Apply the n_gram_seqs transformation to the whole corpus\n",
    "input_sequences = n_gram_seqs(corpus, tokenizer)\n",
    "\n",
    "# Save max length \n",
    "max_sequence_len = max([len(x) for x in input_sequences])\n",
    "\n",
    "print(f\"n_grams of input_sequences have length: {len(input_sequences)}\")\n",
    "print(f\"maximum length of sequences is: {max_sequence_len}\")"
   ]
  },
  {
   "cell_type": "markdown",
   "metadata": {
    "id": "2OciMdmEdE9L"
   },
   "source": [
    "**Expected Output:**\n",
    "\n",
    "```\n",
    "n_grams of input_sequences have length: 15462\n",
    "maximum length of sequences is: 11\n",
    "```"
   ]
  },
  {
   "cell_type": "markdown",
   "metadata": {
    "id": "zHY7HroqWq12"
   },
   "source": [
    "## Add padding to the sequences\n",
    "\n",
    "Now code the `pad_seqs` function which will pad any given sequences to the desired maximum length. Notice that this function receives a list of sequences and should return a numpy array with the padded sequences: "
   ]
  },
  {
   "cell_type": "code",
   "execution_count": 13,
   "metadata": {
    "cellView": "code",
    "id": "WW1-qAZaWOhC",
    "tags": [
     "graded"
    ]
   },
   "outputs": [],
   "source": [
    "# GRADED FUNCTION: pad_seqs\n",
    "def pad_seqs(input_sequences, maxlen):\n",
    "    \"\"\"\n",
    "    Pads tokenized sequences to the same length\n",
    "    \n",
    "    Args:\n",
    "        input_sequences (list of int): tokenized sequences to pad\n",
    "        maxlen (int): maximum length of the token sequences\n",
    "    \n",
    "    Returns:\n",
    "        padded_sequences (array of int): tokenized sequences padded to the same length\n",
    "    \"\"\"\n",
    "    ### START CODE HERE\n",
    "    padded_sequences = np.array(pad_sequences(input_sequences, maxlen=maxlen, padding='pre'))\n",
    "    \n",
    "    return padded_sequences\n",
    "    ### END CODE HERE"
   ]
  },
  {
   "cell_type": "code",
   "execution_count": 14,
   "metadata": {
    "colab": {
     "base_uri": "https://localhost:8080/"
    },
    "id": "IqVQ0pb3YHLr",
    "outputId": "896481e3-7e8f-4f0a-88ab-6bf25c16314c",
    "tags": [
     "graded"
    ]
   },
   "outputs": [
    {
     "data": {
      "text/plain": [
       "array([[  0,   0,   0,  34, 417],\n",
       "       [  0,   0,  34, 417, 877],\n",
       "       [  0,  34, 417, 877, 166],\n",
       "       [ 34, 417, 877, 166, 213],\n",
       "       [417, 877, 166, 213, 517]], dtype=int32)"
      ]
     },
     "execution_count": 14,
     "metadata": {},
     "output_type": "execute_result"
    }
   ],
   "source": [
    "# Test your function with the n_grams_seq of the first example\n",
    "first_padded_seq = pad_seqs(first_example_sequence, len(first_example_sequence))\n",
    "first_padded_seq"
   ]
  },
  {
   "cell_type": "markdown",
   "metadata": {
    "id": "Re_avDznXRnU"
   },
   "source": [
    "**Expected Output:**\n",
    "\n",
    "```\n",
    "array([[  0,   0,   0,  34, 417],\n",
    "       [  0,   0,  34, 417, 877],\n",
    "       [  0,  34, 417, 877, 166],\n",
    "       [ 34, 417, 877, 166, 213],\n",
    "       [417, 877, 166, 213, 517]], dtype=int32)\n",
    "```"
   ]
  },
  {
   "cell_type": "code",
   "execution_count": 24,
   "metadata": {
    "colab": {
     "base_uri": "https://localhost:8080/"
    },
    "id": "j56_UCOBYzZt",
    "outputId": "b6c795a9-ca96-4d35-df1c-a3017612b575",
    "tags": [
     "graded"
    ]
   },
   "outputs": [
    {
     "data": {
      "text/plain": [
       "array([[  0,   0,   0,   0,   0,   0,   8, 878],\n",
       "       [  0,   0,   0,   0,   0,   8, 878, 134],\n",
       "       [  0,   0,   0,   0,   8, 878, 134, 351],\n",
       "       [  0,   0,   0,   8, 878, 134, 351, 102],\n",
       "       [  0,   0,   8, 878, 134, 351, 102, 156],\n",
       "       [  0,   8, 878, 134, 351, 102, 156, 199],\n",
       "       [  0,   0,   0,   0,   0,   0,  16,  22],\n",
       "       [  0,   0,   0,   0,   0,  16,  22,   2],\n",
       "       [  0,   0,   0,   0,  16,  22,   2, 879],\n",
       "       [  0,   0,   0,  16,  22,   2, 879,  61],\n",
       "       [  0,   0,  16,  22,   2, 879,  61,  30],\n",
       "       [  0,  16,  22,   2, 879,  61,  30,  48],\n",
       "       [ 16,  22,   2, 879,  61,  30,  48, 634],\n",
       "       [  0,   0,   0,   0,   0,   0,  25, 311],\n",
       "       [  0,   0,   0,   0,   0,  25, 311, 635],\n",
       "       [  0,   0,   0,   0,  25, 311, 635, 102],\n",
       "       [  0,   0,   0,  25, 311, 635, 102, 200],\n",
       "       [  0,   0,  25, 311, 635, 102, 200,  25],\n",
       "       [  0,  25, 311, 635, 102, 200,  25, 278]], dtype=int32)"
      ]
     },
     "execution_count": 24,
     "metadata": {},
     "output_type": "execute_result"
    }
   ],
   "source": [
    "# Test your function with the n_grams_seq of the next 3 examples\n",
    "next_3_padded_seq = pad_seqs(next_3_examples_sequence, max([len(s) for s in next_3_examples_sequence]))\n",
    "next_3_padded_seq"
   ]
  },
  {
   "cell_type": "markdown",
   "metadata": {
    "id": "3rmcDluOXcIU"
   },
   "source": [
    "**Expected Output:**\n",
    "\n",
    "```\n",
    "array([[  0,   0,   0,   0,   0,   0,   8, 878],\n",
    "       [  0,   0,   0,   0,   0,   8, 878, 134],\n",
    "       [  0,   0,   0,   0,   8, 878, 134, 351],\n",
    "       [  0,   0,   0,   8, 878, 134, 351, 102],\n",
    "       [  0,   0,   8, 878, 134, 351, 102, 156],\n",
    "       [  0,   8, 878, 134, 351, 102, 156, 199],\n",
    "       [  0,   0,   0,   0,   0,   0,  16,  22],\n",
    "       [  0,   0,   0,   0,   0,  16,  22,   2],\n",
    "       [  0,   0,   0,   0,  16,  22,   2, 879],\n",
    "       [  0,   0,   0,  16,  22,   2, 879,  61],\n",
    "       [  0,   0,  16,  22,   2, 879,  61,  30],\n",
    "       [  0,  16,  22,   2, 879,  61,  30,  48],\n",
    "       [ 16,  22,   2, 879,  61,  30,  48, 634],\n",
    "       [  0,   0,   0,   0,   0,   0,  25, 311],\n",
    "       [  0,   0,   0,   0,   0,  25, 311, 635],\n",
    "       [  0,   0,   0,   0,  25, 311, 635, 102],\n",
    "       [  0,   0,   0,  25, 311, 635, 102, 200],\n",
    "       [  0,   0,  25, 311, 635, 102, 200,  25],\n",
    "       [  0,  25, 311, 635, 102, 200,  25, 278]], dtype=int32)\n",
    "```"
   ]
  },
  {
   "cell_type": "code",
   "execution_count": 15,
   "metadata": {
    "colab": {
     "base_uri": "https://localhost:8080/"
    },
    "id": "rgK-Q_micEYA",
    "outputId": "f1720f80-5a63-4dc3-c7f3-e981f39a94e5",
    "tags": [
     "graded"
    ]
   },
   "outputs": [
    {
     "name": "stdout",
     "output_type": "stream",
     "text": [
      "padded corpus has shape: (15462, 11)\n"
     ]
    }
   ],
   "source": [
    "# Pad the whole corpus\n",
    "input_sequences = pad_seqs(input_sequences, max_sequence_len)\n",
    "\n",
    "print(f\"padded corpus has shape: {input_sequences.shape}\")"
   ]
  },
  {
   "cell_type": "markdown",
   "metadata": {
    "id": "59RD1YYNc7CW"
   },
   "source": [
    "**Expected Output:**\n",
    "\n",
    "```\n",
    "padded corpus has shape: (15462, 11)\n",
    "```"
   ]
  },
  {
   "cell_type": "markdown",
   "metadata": {
    "id": "ZbOidyPrXxf7"
   },
   "source": [
    "## Split the data into features and labels\n",
    "\n",
    "Before feeding the data into the neural network you should split it into features and labels. In this case the features will be the padded n_gram sequences with the last word removed from them and the labels will be the removed word.\n",
    "\n",
    "Complete the `features_and_labels` function below. This function expects the padded n_gram sequences as input and should return a tuple containing the features and the one hot encoded labels.\n",
    "\n",
    "Notice that the function also receives the total of words in the corpus, this parameter will be very important when one hot enconding the labels since every word in the corpus will be a label at least once. If you need a refresh of how the `to_categorical` function works take a look at the [docs](https://www.tensorflow.org/api_docs/python/tf/keras/utils/to_categorical)"
   ]
  },
  {
   "cell_type": "code",
   "execution_count": 16,
   "metadata": {
    "cellView": "code",
    "id": "9WGGbYdnZdmJ",
    "tags": [
     "graded"
    ]
   },
   "outputs": [],
   "source": [
    "# GRADED FUNCTION: features_and_labels\n",
    "def features_and_labels(input_sequences, total_words):\n",
    "    \"\"\"\n",
    "    Generates features and labels from n-grams\n",
    "    \n",
    "    Args:\n",
    "        input_sequences (list of int): sequences to split features and labels from\n",
    "        total_words (int): vocabulary size\n",
    "    \n",
    "    Returns:\n",
    "        features, one_hot_labels (array of int, array of int): arrays of features and one-hot encoded labels\n",
    "    \"\"\"\n",
    "    ### START CODE HERE\n",
    "    features = input_sequences[:, :-1]\n",
    "    labels = input_sequences[:,-1]\n",
    "    one_hot_labels = to_categorical(labels, num_classes=total_words)\n",
    "    ### END CODE HERE\n",
    "\n",
    "    return features, one_hot_labels"
   ]
  },
  {
   "cell_type": "code",
   "execution_count": 6,
   "metadata": {},
   "outputs": [
    {
     "data": {
      "text/plain": [
       "[8, 4, 6, 8, 5]"
      ]
     },
     "execution_count": 6,
     "metadata": {},
     "output_type": "execute_result"
    }
   ],
   "source": [
    "x= [8,4,6,8,5,12]\n",
    "x[:-1]"
   ]
  },
  {
   "cell_type": "code",
   "execution_count": 18,
   "metadata": {
    "colab": {
     "base_uri": "https://localhost:8080/"
    },
    "id": "23DolaBRaIAZ",
    "outputId": "de706420-4392-45ca-f804-6824cc7739a8",
    "tags": [
     "graded"
    ]
   },
   "outputs": [
    {
     "name": "stdout",
     "output_type": "stream",
     "text": [
      "labels have shape: (5, 3211)\n",
      "\n",
      "features look like this:\n",
      "\n"
     ]
    },
    {
     "data": {
      "text/plain": [
       "array([[  0,   0,   0,  34],\n",
       "       [  0,   0,  34, 417],\n",
       "       [  0,  34, 417, 877],\n",
       "       [ 34, 417, 877, 166],\n",
       "       [417, 877, 166, 213]], dtype=int32)"
      ]
     },
     "execution_count": 18,
     "metadata": {},
     "output_type": "execute_result"
    }
   ],
   "source": [
    "# Test your function with the padded n_grams_seq of the first example\n",
    "first_features, first_labels = features_and_labels(first_padded_seq, total_words)\n",
    "\n",
    "print(f\"labels have shape: {first_labels.shape}\")\n",
    "print(\"\\nfeatures look like this:\\n\")\n",
    "first_features"
   ]
  },
  {
   "cell_type": "markdown",
   "metadata": {
    "id": "7t4yAx2UaQ43"
   },
   "source": [
    "**Expected Output:**\n",
    "\n",
    "```\n",
    "labels have shape: (5, 3211)\n",
    "\n",
    "features look like this:\n",
    "\n",
    "array([[  0,   0,   0,  34],\n",
    "       [  0,   0,  34, 417],\n",
    "       [  0,  34, 417, 877],\n",
    "       [ 34, 417, 877, 166],\n",
    "       [417, 877, 166, 213]], dtype=int32)\n",
    "```"
   ]
  },
  {
   "cell_type": "code",
   "execution_count": 19,
   "metadata": {
    "colab": {
     "base_uri": "https://localhost:8080/"
    },
    "id": "GRTuLEt3bRKa",
    "outputId": "18b3c669-3301-48ef-efb9-762f666fb884",
    "tags": [
     "graded"
    ]
   },
   "outputs": [
    {
     "name": "stdout",
     "output_type": "stream",
     "text": [
      "features have shape: (15462, 10)\n",
      "labels have shape: (15462, 3211)\n"
     ]
    }
   ],
   "source": [
    "# Split the whole corpus\n",
    "features, labels = features_and_labels(input_sequences, total_words)\n",
    "\n",
    "print(f\"features have shape: {features.shape}\")\n",
    "print(f\"labels have shape: {labels.shape}\")"
   ]
  },
  {
   "cell_type": "markdown",
   "metadata": {
    "id": "xXSMK_HpdLns"
   },
   "source": [
    "**Expected Output:**\n",
    "\n",
    "```\n",
    "features have shape: (15462, 10)\n",
    "labels have shape: (15462, 3211)\n",
    "```"
   ]
  },
  {
   "cell_type": "markdown",
   "metadata": {
    "id": "ltxaOCE_aU6J"
   },
   "source": [
    "## Create the model\n",
    "\n",
    "Now you should define a model architecture capable of achieving an accuracy of at least 80%.\n",
    "\n",
    "Some hints to help you in this task:\n",
    "\n",
    "- An appropriate `output_dim` for the first layer (Embedding) is 100, this is already provided for you.\n",
    "- A Bidirectional LSTM is helpful for this particular problem.\n",
    "- The last layer should have the same number of units as the total number of words in the corpus and a softmax activation function.\n",
    "- This problem can be solved with only two layers (excluding the Embedding) so try out small architectures first."
   ]
  },
  {
   "cell_type": "code",
   "execution_count": 22,
   "metadata": {
    "cellView": "code",
    "id": "XrE6kpJFfvRY",
    "tags": [
     "graded"
    ]
   },
   "outputs": [],
   "source": [
    "# GRADED FUNCTION: create_model\n",
    "def create_model(total_words, max_sequence_len):\n",
    "    \"\"\"\n",
    "    Creates a text generator model\n",
    "    \n",
    "    Args:\n",
    "        total_words (int): size of the vocabulary for the Embedding layer input\n",
    "        max_sequence_len (int): length of the input sequences\n",
    "    \n",
    "    Returns:\n",
    "        model (tf.keras Model): the text generator model\n",
    "    \"\"\"\n",
    "    model = Sequential()\n",
    "    ### START CODE HERE\n",
    "    model.add(Embedding(total_words, 100, input_length=max_sequence_len-1))\n",
    "    model.add(Bidirectional(LSTM(150)))\n",
    "    model.add(Dense(total_words, activation='softmax'))\n",
    "\n",
    "\n",
    "    # Compile the model\n",
    "    model.compile(loss='categorical_crossentropy',\n",
    "                  optimizer='Adam',\n",
    "                  metrics=['accuracy'])\n",
    "    \n",
    "    ### END CODE HERE\n",
    "\n",
    "    return model"
   ]
  },
  {
   "cell_type": "code",
   "execution_count": 23,
   "metadata": {
    "colab": {
     "base_uri": "https://localhost:8080/"
    },
    "id": "0IpX_Gu_gISk",
    "outputId": "83826ab8-437a-4e8b-ad4a-f286181933d7",
    "tags": []
   },
   "outputs": [
    {
     "name": "stdout",
     "output_type": "stream",
     "text": [
      "Epoch 1/100\n",
      "484/484 [==============================] - 11s 8ms/step - loss: 6.8768 - accuracy: 0.0236\n",
      "Epoch 2/100\n",
      "484/484 [==============================] - 4s 8ms/step - loss: 6.4118 - accuracy: 0.0321\n",
      "Epoch 3/100\n",
      "484/484 [==============================] - 4s 8ms/step - loss: 6.1735 - accuracy: 0.0411\n",
      "Epoch 4/100\n",
      "484/484 [==============================] - 4s 8ms/step - loss: 5.9226 - accuracy: 0.0485\n",
      "Epoch 5/100\n",
      "484/484 [==============================] - 4s 8ms/step - loss: 5.6358 - accuracy: 0.0622\n",
      "Epoch 6/100\n",
      "484/484 [==============================] - 4s 8ms/step - loss: 5.3038 - accuracy: 0.0739\n",
      "Epoch 7/100\n",
      "484/484 [==============================] - 4s 8ms/step - loss: 4.9400 - accuracy: 0.0920\n",
      "Epoch 8/100\n",
      "484/484 [==============================] - 4s 8ms/step - loss: 4.5531 - accuracy: 0.1188\n",
      "Epoch 9/100\n",
      "484/484 [==============================] - 4s 8ms/step - loss: 4.1647 - accuracy: 0.1607\n",
      "Epoch 10/100\n",
      "484/484 [==============================] - 4s 8ms/step - loss: 3.7791 - accuracy: 0.2213\n",
      "Epoch 11/100\n",
      "484/484 [==============================] - 4s 8ms/step - loss: 3.4201 - accuracy: 0.2813\n",
      "Epoch 12/100\n",
      "484/484 [==============================] - 4s 8ms/step - loss: 3.0825 - accuracy: 0.3469\n",
      "Epoch 13/100\n",
      "484/484 [==============================] - 4s 8ms/step - loss: 2.7863 - accuracy: 0.4043\n",
      "Epoch 14/100\n",
      "484/484 [==============================] - 4s 8ms/step - loss: 2.5255 - accuracy: 0.4585\n",
      "Epoch 15/100\n",
      "484/484 [==============================] - 4s 8ms/step - loss: 2.2837 - accuracy: 0.5096\n",
      "Epoch 16/100\n",
      "484/484 [==============================] - 4s 8ms/step - loss: 2.0735 - accuracy: 0.5570\n",
      "Epoch 17/100\n",
      "484/484 [==============================] - 4s 8ms/step - loss: 1.8822 - accuracy: 0.5960\n",
      "Epoch 18/100\n",
      "484/484 [==============================] - 4s 8ms/step - loss: 1.7087 - accuracy: 0.6398\n",
      "Epoch 19/100\n",
      "484/484 [==============================] - 4s 8ms/step - loss: 1.5581 - accuracy: 0.6727\n",
      "Epoch 20/100\n",
      "484/484 [==============================] - 4s 8ms/step - loss: 1.4192 - accuracy: 0.7051\n",
      "Epoch 21/100\n",
      "484/484 [==============================] - 4s 8ms/step - loss: 1.3045 - accuracy: 0.7290\n",
      "Epoch 22/100\n",
      "484/484 [==============================] - 4s 8ms/step - loss: 1.1930 - accuracy: 0.7532\n",
      "Epoch 23/100\n",
      "484/484 [==============================] - 4s 8ms/step - loss: 1.1029 - accuracy: 0.7733\n",
      "Epoch 24/100\n",
      "484/484 [==============================] - 4s 8ms/step - loss: 1.0236 - accuracy: 0.7874\n",
      "Epoch 25/100\n",
      "484/484 [==============================] - 4s 8ms/step - loss: 0.9529 - accuracy: 0.8015\n",
      "Epoch 26/100\n",
      "484/484 [==============================] - 4s 9ms/step - loss: 0.8962 - accuracy: 0.8097\n",
      "Epoch 27/100\n",
      "484/484 [==============================] - 4s 8ms/step - loss: 0.8514 - accuracy: 0.8174\n",
      "Epoch 28/100\n",
      "484/484 [==============================] - 4s 8ms/step - loss: 0.8075 - accuracy: 0.8235\n",
      "Epoch 29/100\n",
      "484/484 [==============================] - 4s 8ms/step - loss: 0.7744 - accuracy: 0.8282\n",
      "Epoch 30/100\n",
      "484/484 [==============================] - 4s 8ms/step - loss: 0.7452 - accuracy: 0.8321\n",
      "Epoch 31/100\n",
      "484/484 [==============================] - 4s 8ms/step - loss: 0.7146 - accuracy: 0.8386\n",
      "Epoch 32/100\n",
      "484/484 [==============================] - 4s 8ms/step - loss: 0.6920 - accuracy: 0.8384\n",
      "Epoch 33/100\n",
      "484/484 [==============================] - 4s 8ms/step - loss: 0.6775 - accuracy: 0.8408\n",
      "Epoch 34/100\n",
      "484/484 [==============================] - 4s 8ms/step - loss: 0.6716 - accuracy: 0.8408\n",
      "Epoch 35/100\n",
      "484/484 [==============================] - 4s 8ms/step - loss: 0.6495 - accuracy: 0.8441\n",
      "Epoch 36/100\n",
      "484/484 [==============================] - 4s 8ms/step - loss: 0.6321 - accuracy: 0.8461\n",
      "Epoch 37/100\n",
      "484/484 [==============================] - 4s 8ms/step - loss: 0.6304 - accuracy: 0.8460\n",
      "Epoch 38/100\n",
      "484/484 [==============================] - 4s 8ms/step - loss: 0.6222 - accuracy: 0.8470\n",
      "Epoch 39/100\n",
      "484/484 [==============================] - 4s 8ms/step - loss: 0.6090 - accuracy: 0.8482\n",
      "Epoch 40/100\n",
      "484/484 [==============================] - 4s 8ms/step - loss: 0.6018 - accuracy: 0.8490\n",
      "Epoch 41/100\n",
      "484/484 [==============================] - 4s 8ms/step - loss: 0.6027 - accuracy: 0.8489\n",
      "Epoch 42/100\n",
      "484/484 [==============================] - 4s 8ms/step - loss: 0.5948 - accuracy: 0.8480\n",
      "Epoch 43/100\n",
      "484/484 [==============================] - 4s 8ms/step - loss: 0.5975 - accuracy: 0.8471\n",
      "Epoch 44/100\n",
      "484/484 [==============================] - 4s 8ms/step - loss: 0.5877 - accuracy: 0.8472\n",
      "Epoch 45/100\n",
      "484/484 [==============================] - 4s 8ms/step - loss: 0.5792 - accuracy: 0.8496\n",
      "Epoch 46/100\n",
      "484/484 [==============================] - 4s 8ms/step - loss: 0.5759 - accuracy: 0.8484\n",
      "Epoch 47/100\n",
      "484/484 [==============================] - 4s 8ms/step - loss: 0.5752 - accuracy: 0.8494\n",
      "Epoch 48/100\n",
      "484/484 [==============================] - 4s 8ms/step - loss: 0.5752 - accuracy: 0.8477\n",
      "Epoch 49/100\n",
      "484/484 [==============================] - 4s 8ms/step - loss: 0.5837 - accuracy: 0.8467\n",
      "Epoch 50/100\n",
      "484/484 [==============================] - 4s 8ms/step - loss: 0.5670 - accuracy: 0.8489\n",
      "Epoch 51/100\n",
      "484/484 [==============================] - 4s 8ms/step - loss: 0.5659 - accuracy: 0.8487\n",
      "Epoch 52/100\n",
      "484/484 [==============================] - 4s 8ms/step - loss: 0.5579 - accuracy: 0.8496\n",
      "Epoch 53/100\n",
      "484/484 [==============================] - 4s 8ms/step - loss: 0.5599 - accuracy: 0.8484\n",
      "Epoch 54/100\n",
      "484/484 [==============================] - 4s 8ms/step - loss: 0.5611 - accuracy: 0.8501\n",
      "Epoch 55/100\n",
      "484/484 [==============================] - 4s 8ms/step - loss: 0.5643 - accuracy: 0.8471\n",
      "Epoch 56/100\n",
      "484/484 [==============================] - 4s 8ms/step - loss: 0.5561 - accuracy: 0.8490\n",
      "Epoch 57/100\n",
      "484/484 [==============================] - 4s 8ms/step - loss: 0.5532 - accuracy: 0.8501\n",
      "Epoch 58/100\n",
      "484/484 [==============================] - 4s 8ms/step - loss: 0.5507 - accuracy: 0.8502\n",
      "Epoch 59/100\n",
      "484/484 [==============================] - 4s 8ms/step - loss: 0.5476 - accuracy: 0.8503\n",
      "Epoch 60/100\n",
      "484/484 [==============================] - 4s 9ms/step - loss: 0.5472 - accuracy: 0.8489\n",
      "Epoch 61/100\n",
      "484/484 [==============================] - 4s 8ms/step - loss: 0.5455 - accuracy: 0.8487\n",
      "Epoch 62/100\n",
      "484/484 [==============================] - 4s 8ms/step - loss: 0.5470 - accuracy: 0.8484\n",
      "Epoch 63/100\n",
      "484/484 [==============================] - 4s 8ms/step - loss: 0.5508 - accuracy: 0.8473\n",
      "Epoch 64/100\n",
      "484/484 [==============================] - 4s 8ms/step - loss: 0.5440 - accuracy: 0.8505\n",
      "Epoch 65/100\n",
      "484/484 [==============================] - 4s 8ms/step - loss: 0.5404 - accuracy: 0.8501\n",
      "Epoch 66/100\n",
      "484/484 [==============================] - 4s 8ms/step - loss: 0.5375 - accuracy: 0.8506\n",
      "Epoch 67/100\n",
      "484/484 [==============================] - 4s 8ms/step - loss: 0.5379 - accuracy: 0.8491\n",
      "Epoch 68/100\n",
      "484/484 [==============================] - 4s 8ms/step - loss: 0.5343 - accuracy: 0.8496\n",
      "Epoch 69/100\n",
      "484/484 [==============================] - 4s 8ms/step - loss: 0.5352 - accuracy: 0.8496\n",
      "Epoch 70/100\n",
      "484/484 [==============================] - 4s 8ms/step - loss: 0.5367 - accuracy: 0.8492\n",
      "Epoch 71/100\n",
      "484/484 [==============================] - 4s 8ms/step - loss: 0.5333 - accuracy: 0.8498\n",
      "Epoch 72/100\n",
      "484/484 [==============================] - 4s 8ms/step - loss: 0.5362 - accuracy: 0.8491\n",
      "Epoch 73/100\n",
      "484/484 [==============================] - 4s 8ms/step - loss: 0.5479 - accuracy: 0.8469\n",
      "Epoch 74/100\n",
      "484/484 [==============================] - 4s 8ms/step - loss: 0.5326 - accuracy: 0.8503\n",
      "Epoch 75/100\n",
      "484/484 [==============================] - 4s 8ms/step - loss: 0.5258 - accuracy: 0.8501\n",
      "Epoch 76/100\n",
      "484/484 [==============================] - 4s 8ms/step - loss: 0.5256 - accuracy: 0.8501\n",
      "Epoch 77/100\n",
      "484/484 [==============================] - 4s 8ms/step - loss: 0.5222 - accuracy: 0.8512\n",
      "Epoch 78/100\n",
      "484/484 [==============================] - 4s 8ms/step - loss: 0.5240 - accuracy: 0.8506\n",
      "Epoch 79/100\n",
      "484/484 [==============================] - 4s 8ms/step - loss: 0.5218 - accuracy: 0.8501\n",
      "Epoch 80/100\n",
      "484/484 [==============================] - 4s 8ms/step - loss: 0.5212 - accuracy: 0.8505\n",
      "Epoch 81/100\n",
      "484/484 [==============================] - 4s 8ms/step - loss: 0.5243 - accuracy: 0.8509\n",
      "Epoch 82/100\n",
      "484/484 [==============================] - 4s 8ms/step - loss: 0.5275 - accuracy: 0.8504\n",
      "Epoch 83/100\n",
      "484/484 [==============================] - 4s 8ms/step - loss: 0.5245 - accuracy: 0.8490\n",
      "Epoch 84/100\n",
      "484/484 [==============================] - 4s 8ms/step - loss: 0.5217 - accuracy: 0.8487\n",
      "Epoch 85/100\n",
      "484/484 [==============================] - 4s 8ms/step - loss: 0.5190 - accuracy: 0.8516\n",
      "Epoch 86/100\n",
      "484/484 [==============================] - 4s 8ms/step - loss: 0.5152 - accuracy: 0.8509\n",
      "Epoch 87/100\n",
      "484/484 [==============================] - 4s 8ms/step - loss: 0.5153 - accuracy: 0.8503\n",
      "Epoch 88/100\n",
      "484/484 [==============================] - 4s 8ms/step - loss: 0.5166 - accuracy: 0.8513\n",
      "Epoch 89/100\n",
      "484/484 [==============================] - 4s 8ms/step - loss: 0.5168 - accuracy: 0.8495\n",
      "Epoch 90/100\n",
      "484/484 [==============================] - 4s 9ms/step - loss: 0.5160 - accuracy: 0.8503\n",
      "Epoch 91/100\n",
      "484/484 [==============================] - 4s 8ms/step - loss: 0.5131 - accuracy: 0.8509\n",
      "Epoch 92/100\n",
      "484/484 [==============================] - 4s 8ms/step - loss: 0.5130 - accuracy: 0.8516\n",
      "Epoch 93/100\n",
      "484/484 [==============================] - 4s 9ms/step - loss: 0.5168 - accuracy: 0.8498\n",
      "Epoch 94/100\n",
      "484/484 [==============================] - 4s 9ms/step - loss: 0.5282 - accuracy: 0.8469\n",
      "Epoch 95/100\n",
      "484/484 [==============================] - 4s 9ms/step - loss: 0.5175 - accuracy: 0.8499\n",
      "Epoch 96/100\n",
      "484/484 [==============================] - 4s 8ms/step - loss: 0.5067 - accuracy: 0.8500\n",
      "Epoch 97/100\n",
      "484/484 [==============================] - 4s 8ms/step - loss: 0.5058 - accuracy: 0.8505\n",
      "Epoch 98/100\n",
      "484/484 [==============================] - 4s 8ms/step - loss: 0.5056 - accuracy: 0.8514\n",
      "Epoch 99/100\n",
      "484/484 [==============================] - 4s 8ms/step - loss: 0.5070 - accuracy: 0.8516\n",
      "Epoch 100/100\n",
      "484/484 [==============================] - 4s 8ms/step - loss: 0.5052 - accuracy: 0.8502\n"
     ]
    }
   ],
   "source": [
    "# Get the untrained model\n",
    "model = create_model(total_words, max_sequence_len)\n",
    "\n",
    "# Train the model\n",
    "history = model.fit(features, labels, epochs=100, verbose=1)"
   ]
  },
  {
   "cell_type": "code",
   "execution_count": 25,
   "metadata": {
    "colab": {
     "base_uri": "https://localhost:8080/",
     "height": 17
    },
    "id": "9QRG73l6qE-c",
    "outputId": "ed7f58d2-45a9-419c-d27a-d23c7dc834f9",
    "tags": []
   },
   "outputs": [
    {
     "data": {
      "application/javascript": [
       "\n",
       "    async function download(id, filename, size) {\n",
       "      if (!google.colab.kernel.accessAllowed) {\n",
       "        return;\n",
       "      }\n",
       "      const div = document.createElement('div');\n",
       "      const label = document.createElement('label');\n",
       "      label.textContent = `Downloading \"${filename}\": `;\n",
       "      div.appendChild(label);\n",
       "      const progress = document.createElement('progress');\n",
       "      progress.max = size;\n",
       "      div.appendChild(progress);\n",
       "      document.body.appendChild(div);\n",
       "\n",
       "      const buffers = [];\n",
       "      let downloaded = 0;\n",
       "\n",
       "      const channel = await google.colab.kernel.comms.open(id);\n",
       "      // Send a message to notify the kernel that we're ready.\n",
       "      channel.send({})\n",
       "\n",
       "      for await (const message of channel.messages) {\n",
       "        // Send a message to notify the kernel that we're ready.\n",
       "        channel.send({})\n",
       "        if (message.buffers) {\n",
       "          for (const buffer of message.buffers) {\n",
       "            buffers.push(buffer);\n",
       "            downloaded += buffer.byteLength;\n",
       "            progress.value = downloaded;\n",
       "          }\n",
       "        }\n",
       "      }\n",
       "      const blob = new Blob(buffers, {type: 'application/binary'});\n",
       "      const a = document.createElement('a');\n",
       "      a.href = window.URL.createObjectURL(blob);\n",
       "      a.download = filename;\n",
       "      div.appendChild(a);\n",
       "      a.click();\n",
       "      div.remove();\n",
       "    }\n",
       "  "
      ],
      "text/plain": [
       "<IPython.core.display.Javascript object>"
      ]
     },
     "metadata": {},
     "output_type": "display_data"
    },
    {
     "data": {
      "application/javascript": [
       "download(\"download_6e12b28e-fc2b-4d2a-b435-8104af31f225\", \"history.pkl\", 1842)"
      ],
      "text/plain": [
       "<IPython.core.display.Javascript object>"
      ]
     },
     "metadata": {},
     "output_type": "display_data"
    }
   ],
   "source": [
    "def download_history():\n",
    "  import pickle\n",
    "  from google.colab import files\n",
    "\n",
    "  with open('history.pkl', 'wb') as f:\n",
    "    pickle.dump(history.history, f)\n",
    "\n",
    "  files.download('history.pkl')\n",
    "\n",
    "download_history()"
   ]
  },
  {
   "cell_type": "markdown",
   "metadata": {
    "id": "wdsMszk9zBs_"
   },
   "source": [
    "## See your model in action\n",
    "\n",
    "After all your work it is finally time to see your model generating text. \n",
    "\n",
    "Run the cell below to generate the next 100 words of a seed text.\n",
    "\n"
   ]
  },
  {
   "cell_type": "code",
   "execution_count": null,
   "metadata": {
    "id": "6Vc6PHgxa6Hm",
    "tags": []
   },
   "outputs": [],
   "source": [
    "seed_text = \"Help me Obi Wan Kenobi, you're my only hope\"\n",
    "next_words = 100\n",
    "  \n",
    "for _ in range(next_words):\n",
    "\t# Convert the text into sequences\n",
    "\ttoken_list = tokenizer.texts_to_sequences([seed_text])[0]\n",
    "\t# Pad the sequences\n",
    "\ttoken_list = pad_sequences([token_list], maxlen=max_sequence_len-1, padding='pre')\n",
    "\t# Get the probabilities of predicting a word\n",
    "\tpredicted = model.predict(token_list, verbose=0)\n",
    "\t# Choose the next word based on the maximum probability\n",
    "\tpredicted = np.argmax(predicted, axis=-1).item()\n",
    "\t# Get the actual word from the word index\n",
    "\toutput_word = tokenizer.index_word[predicted]\n",
    "\t# Append to the current text\n",
    "\tseed_text += \" \" + output_word\n",
    "\n",
    "print(seed_text)"
   ]
  }
 ],
 "metadata": {
  "accelerator": "GPU",
  "colab": {
   "provenance": []
  },
  "dlai_version": "1.2.0",
  "jupytext": {
   "main_language": "python"
  },
  "kernelspec": {
   "display_name": "Python 3",
   "language": "python",
   "name": "python3"
  },
  "language_info": {
   "codemirror_mode": {
    "name": "ipython",
    "version": 3
   },
   "file_extension": ".py",
   "mimetype": "text/x-python",
   "name": "python",
   "nbconvert_exporter": "python",
   "pygments_lexer": "ipython3",
   "version": "3.7.4"
  }
 },
 "nbformat": 4,
 "nbformat_minor": 1
}
